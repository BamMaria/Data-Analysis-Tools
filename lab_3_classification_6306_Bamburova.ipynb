{
  "cells": [
    {
      "cell_type": "markdown",
      "metadata": {
        "collapsed": true,
        "pycharm": {
          "name": "#%% md\n"
        },
        "id": "SsMENUAKtAL9"
      },
      "source": [
        "# Лабораторная работа 3\n",
        "Классификация в sklearn. Метрики классификации\n",
        "\n",
        "Выполнил:6306,Бамбурова Мария Владимировна"
      ]
    },
    {
      "cell_type": "code",
      "execution_count": null,
      "metadata": {
        "id": "mW2hbCdotAMA"
      },
      "outputs": [],
      "source": [
        "import pandas as pd\n",
        "pd.options.display.max_columns = 999\n",
        "import numpy as np\n",
        "import matplotlib.pyplot as plt\n",
        "import seaborn as sns\n",
        "from sklearn.model_selection import train_test_split, cross_val_score, GridSearchCV, StratifiedKFold\n",
        "from sklearn.ensemble import RandomForestClassifier\n",
        "from sklearn.preprocessing import MinMaxScaler, StandardScaler\n",
        "from sklearn.metrics import plot_confusion_matrix\n",
        "from sklearn.tree import DecisionTreeClassifier\n",
        "from sklearn.linear_model import LogisticRegression\n",
        "from tqdm import tqdm\n",
        "import plotly.express as px\n",
        "from sklearn.metrics import accuracy_score, f1_score, recall_score, precision_score, f1_score,classification_report, confusion_matrix\n",
        "\n",
        "import warnings\n",
        "import sys\n",
        "if not sys.warnoptions:\n",
        "    warnings.simplefilter(\"ignore\")"
      ]
    },
    {
      "cell_type": "markdown",
      "metadata": {
        "pycharm": {
          "name": "#%% md\n"
        },
        "id": "uLKrFtR5tAMB"
      },
      "source": [
        "0.  Выберите наборы данных, подходящие для многоклассовой и бинарной классификации. Опишите данные, что обозначает каждый столбец, какого типа (категориальный, вещественный, целочисленный, бинарный) данный столбец, при необходимости для категориальных в том числе бинарных признаков привести расшифровку их значений. В общем, проведите \"визуальный\" анализ ваших данных."
      ]
    },
    {
      "cell_type": "code",
      "execution_count": null,
      "metadata": {
        "id": "n9ufqU-DtAMB"
      },
      "outputs": [],
      "source": [
        "!pip install opendatasets"
      ]
    },
    {
      "cell_type": "code",
      "source": [],
      "metadata": {
        "id": "vnKElZXLtDmm"
      },
      "execution_count": null,
      "outputs": []
    },
    {
      "cell_type": "code",
      "execution_count": null,
      "metadata": {
        "id": "oviNzbiNtAMC"
      },
      "outputs": [],
      "source": [
        "import opendatasets as od"
      ]
    },
    {
      "cell_type": "code",
      "execution_count": null,
      "metadata": {
        "id": "tBYtuRdwtAMC"
      },
      "outputs": [],
      "source": [
        "dataset='https://www.kaggle.com/datasets/deepu1109/star-dataset'"
      ]
    },
    {
      "cell_type": "markdown",
      "source": [],
      "metadata": {
        "id": "2bPqSAZqtQXR"
      }
    },
    {
      "cell_type": "code",
      "execution_count": null,
      "metadata": {
        "id": "iIEspa1RtAMD"
      },
      "outputs": [],
      "source": [
        "import os"
      ]
    },
    {
      "cell_type": "code",
      "execution_count": null,
      "metadata": {
        "id": "FNFz1B5VtAMD",
        "outputId": "f73544c5-6d57-4712-cc16-f49caf5f043c"
      },
      "outputs": [
        {
          "name": "stdout",
          "output_type": "stream",
          "text": [
            "Skipping, found downloaded files in \".\\star-dataset\" (use force=True to force download)\n"
          ]
        }
      ],
      "source": [
        "od.download(dataset)"
      ]
    },
    {
      "cell_type": "code",
      "execution_count": null,
      "metadata": {
        "id": "wOrIP26rtAMF"
      },
      "outputs": [],
      "source": [
        "data_dir='.\\star-dataset'"
      ]
    },
    {
      "cell_type": "code",
      "execution_count": null,
      "metadata": {
        "id": "Pp792mUPtAMF",
        "outputId": "062e6d55-d56f-43f4-a564-33a91655c349"
      },
      "outputs": [
        {
          "data": {
            "text/plain": [
              "['6 class csv.csv']"
            ]
          },
          "execution_count": 58,
          "metadata": {},
          "output_type": "execute_result"
        }
      ],
      "source": [
        "os.listdir(data_dir)"
      ]
    },
    {
      "cell_type": "code",
      "execution_count": null,
      "metadata": {
        "id": "nxFo3lYktAMG"
      },
      "outputs": [],
      "source": [
        "import pandas as pd"
      ]
    },
    {
      "cell_type": "code",
      "execution_count": null,
      "metadata": {
        "scrolled": true,
        "id": "ZQ2a7D_JtAMG",
        "outputId": "ee47b4a8-c2c4-4bf6-b594-6118a76094e1"
      },
      "outputs": [
        {
          "data": {
            "text/html": [
              "<div>\n",
              "<style scoped>\n",
              "    .dataframe tbody tr th:only-of-type {\n",
              "        vertical-align: middle;\n",
              "    }\n",
              "\n",
              "    .dataframe tbody tr th {\n",
              "        vertical-align: top;\n",
              "    }\n",
              "\n",
              "    .dataframe thead th {\n",
              "        text-align: right;\n",
              "    }\n",
              "</style>\n",
              "<table border=\"1\" class=\"dataframe\">\n",
              "  <thead>\n",
              "    <tr style=\"text-align: right;\">\n",
              "      <th></th>\n",
              "      <th>Temperature (K)</th>\n",
              "      <th>Luminosity(L/Lo)</th>\n",
              "      <th>Radius(R/Ro)</th>\n",
              "      <th>Absolute magnitude(Mv)</th>\n",
              "      <th>Star type</th>\n",
              "      <th>Star color</th>\n",
              "      <th>Spectral Class</th>\n",
              "    </tr>\n",
              "  </thead>\n",
              "  <tbody>\n",
              "    <tr>\n",
              "      <th>0</th>\n",
              "      <td>3068</td>\n",
              "      <td>0.002400</td>\n",
              "      <td>0.1700</td>\n",
              "      <td>16.12</td>\n",
              "      <td>0</td>\n",
              "      <td>Red</td>\n",
              "      <td>M</td>\n",
              "    </tr>\n",
              "    <tr>\n",
              "      <th>1</th>\n",
              "      <td>3042</td>\n",
              "      <td>0.000500</td>\n",
              "      <td>0.1542</td>\n",
              "      <td>16.60</td>\n",
              "      <td>0</td>\n",
              "      <td>Red</td>\n",
              "      <td>M</td>\n",
              "    </tr>\n",
              "    <tr>\n",
              "      <th>2</th>\n",
              "      <td>2600</td>\n",
              "      <td>0.000300</td>\n",
              "      <td>0.1020</td>\n",
              "      <td>18.70</td>\n",
              "      <td>0</td>\n",
              "      <td>Red</td>\n",
              "      <td>M</td>\n",
              "    </tr>\n",
              "    <tr>\n",
              "      <th>3</th>\n",
              "      <td>2800</td>\n",
              "      <td>0.000200</td>\n",
              "      <td>0.1600</td>\n",
              "      <td>16.65</td>\n",
              "      <td>0</td>\n",
              "      <td>Red</td>\n",
              "      <td>M</td>\n",
              "    </tr>\n",
              "    <tr>\n",
              "      <th>4</th>\n",
              "      <td>1939</td>\n",
              "      <td>0.000138</td>\n",
              "      <td>0.1030</td>\n",
              "      <td>20.06</td>\n",
              "      <td>0</td>\n",
              "      <td>Red</td>\n",
              "      <td>M</td>\n",
              "    </tr>\n",
              "    <tr>\n",
              "      <th>...</th>\n",
              "      <td>...</td>\n",
              "      <td>...</td>\n",
              "      <td>...</td>\n",
              "      <td>...</td>\n",
              "      <td>...</td>\n",
              "      <td>...</td>\n",
              "      <td>...</td>\n",
              "    </tr>\n",
              "    <tr>\n",
              "      <th>235</th>\n",
              "      <td>38940</td>\n",
              "      <td>374830.000000</td>\n",
              "      <td>1356.0000</td>\n",
              "      <td>-9.93</td>\n",
              "      <td>5</td>\n",
              "      <td>Blue</td>\n",
              "      <td>O</td>\n",
              "    </tr>\n",
              "    <tr>\n",
              "      <th>236</th>\n",
              "      <td>30839</td>\n",
              "      <td>834042.000000</td>\n",
              "      <td>1194.0000</td>\n",
              "      <td>-10.63</td>\n",
              "      <td>5</td>\n",
              "      <td>Blue</td>\n",
              "      <td>O</td>\n",
              "    </tr>\n",
              "    <tr>\n",
              "      <th>237</th>\n",
              "      <td>8829</td>\n",
              "      <td>537493.000000</td>\n",
              "      <td>1423.0000</td>\n",
              "      <td>-10.73</td>\n",
              "      <td>5</td>\n",
              "      <td>White</td>\n",
              "      <td>A</td>\n",
              "    </tr>\n",
              "    <tr>\n",
              "      <th>238</th>\n",
              "      <td>9235</td>\n",
              "      <td>404940.000000</td>\n",
              "      <td>1112.0000</td>\n",
              "      <td>-11.23</td>\n",
              "      <td>5</td>\n",
              "      <td>White</td>\n",
              "      <td>A</td>\n",
              "    </tr>\n",
              "    <tr>\n",
              "      <th>239</th>\n",
              "      <td>37882</td>\n",
              "      <td>294903.000000</td>\n",
              "      <td>1783.0000</td>\n",
              "      <td>-7.80</td>\n",
              "      <td>5</td>\n",
              "      <td>Blue</td>\n",
              "      <td>O</td>\n",
              "    </tr>\n",
              "  </tbody>\n",
              "</table>\n",
              "<p>240 rows × 7 columns</p>\n",
              "</div>"
            ],
            "text/plain": [
              "     Temperature (K)  Luminosity(L/Lo)  Radius(R/Ro)  Absolute magnitude(Mv)  \\\n",
              "0               3068          0.002400        0.1700                   16.12   \n",
              "1               3042          0.000500        0.1542                   16.60   \n",
              "2               2600          0.000300        0.1020                   18.70   \n",
              "3               2800          0.000200        0.1600                   16.65   \n",
              "4               1939          0.000138        0.1030                   20.06   \n",
              "..               ...               ...           ...                     ...   \n",
              "235            38940     374830.000000     1356.0000                   -9.93   \n",
              "236            30839     834042.000000     1194.0000                  -10.63   \n",
              "237             8829     537493.000000     1423.0000                  -10.73   \n",
              "238             9235     404940.000000     1112.0000                  -11.23   \n",
              "239            37882     294903.000000     1783.0000                   -7.80   \n",
              "\n",
              "     Star type Star color Spectral Class  \n",
              "0            0        Red              M  \n",
              "1            0        Red              M  \n",
              "2            0        Red              M  \n",
              "3            0        Red              M  \n",
              "4            0        Red              M  \n",
              "..         ...        ...            ...  \n",
              "235          5       Blue              O  \n",
              "236          5       Blue              O  \n",
              "237          5      White              A  \n",
              "238          5      White              A  \n",
              "239          5       Blue              O  \n",
              "\n",
              "[240 rows x 7 columns]"
            ]
          },
          "metadata": {},
          "output_type": "display_data"
        }
      ],
      "source": [
        "df=pd.read_csv('6 class csv.csv')\n",
        "display(df)"
      ]
    },
    {
      "cell_type": "code",
      "execution_count": null,
      "metadata": {
        "id": "VXJcJ-hItAMH",
        "outputId": "4a895a0c-ac3e-4c0a-80be-4b27e8e10e6c"
      },
      "outputs": [
        {
          "data": {
            "text/html": [
              "<div>\n",
              "<style scoped>\n",
              "    .dataframe tbody tr th:only-of-type {\n",
              "        vertical-align: middle;\n",
              "    }\n",
              "\n",
              "    .dataframe tbody tr th {\n",
              "        vertical-align: top;\n",
              "    }\n",
              "\n",
              "    .dataframe thead th {\n",
              "        text-align: right;\n",
              "    }\n",
              "</style>\n",
              "<table border=\"1\" class=\"dataframe\">\n",
              "  <thead>\n",
              "    <tr style=\"text-align: right;\">\n",
              "      <th></th>\n",
              "      <th>Temperature_K</th>\n",
              "      <th>Luminosity</th>\n",
              "      <th>Radius</th>\n",
              "      <th>Absolute_magnitude</th>\n",
              "      <th>Star_type</th>\n",
              "      <th>Star_color</th>\n",
              "      <th>Spectral_Class</th>\n",
              "    </tr>\n",
              "  </thead>\n",
              "  <tbody>\n",
              "    <tr>\n",
              "      <th>0</th>\n",
              "      <td>3068</td>\n",
              "      <td>0.002400</td>\n",
              "      <td>0.1700</td>\n",
              "      <td>16.12</td>\n",
              "      <td>0</td>\n",
              "      <td>Red</td>\n",
              "      <td>M</td>\n",
              "    </tr>\n",
              "    <tr>\n",
              "      <th>1</th>\n",
              "      <td>3042</td>\n",
              "      <td>0.000500</td>\n",
              "      <td>0.1542</td>\n",
              "      <td>16.60</td>\n",
              "      <td>0</td>\n",
              "      <td>Red</td>\n",
              "      <td>M</td>\n",
              "    </tr>\n",
              "    <tr>\n",
              "      <th>2</th>\n",
              "      <td>2600</td>\n",
              "      <td>0.000300</td>\n",
              "      <td>0.1020</td>\n",
              "      <td>18.70</td>\n",
              "      <td>0</td>\n",
              "      <td>Red</td>\n",
              "      <td>M</td>\n",
              "    </tr>\n",
              "    <tr>\n",
              "      <th>3</th>\n",
              "      <td>2800</td>\n",
              "      <td>0.000200</td>\n",
              "      <td>0.1600</td>\n",
              "      <td>16.65</td>\n",
              "      <td>0</td>\n",
              "      <td>Red</td>\n",
              "      <td>M</td>\n",
              "    </tr>\n",
              "    <tr>\n",
              "      <th>4</th>\n",
              "      <td>1939</td>\n",
              "      <td>0.000138</td>\n",
              "      <td>0.1030</td>\n",
              "      <td>20.06</td>\n",
              "      <td>0</td>\n",
              "      <td>Red</td>\n",
              "      <td>M</td>\n",
              "    </tr>\n",
              "    <tr>\n",
              "      <th>...</th>\n",
              "      <td>...</td>\n",
              "      <td>...</td>\n",
              "      <td>...</td>\n",
              "      <td>...</td>\n",
              "      <td>...</td>\n",
              "      <td>...</td>\n",
              "      <td>...</td>\n",
              "    </tr>\n",
              "    <tr>\n",
              "      <th>235</th>\n",
              "      <td>38940</td>\n",
              "      <td>374830.000000</td>\n",
              "      <td>1356.0000</td>\n",
              "      <td>-9.93</td>\n",
              "      <td>5</td>\n",
              "      <td>Blue</td>\n",
              "      <td>O</td>\n",
              "    </tr>\n",
              "    <tr>\n",
              "      <th>236</th>\n",
              "      <td>30839</td>\n",
              "      <td>834042.000000</td>\n",
              "      <td>1194.0000</td>\n",
              "      <td>-10.63</td>\n",
              "      <td>5</td>\n",
              "      <td>Blue</td>\n",
              "      <td>O</td>\n",
              "    </tr>\n",
              "    <tr>\n",
              "      <th>237</th>\n",
              "      <td>8829</td>\n",
              "      <td>537493.000000</td>\n",
              "      <td>1423.0000</td>\n",
              "      <td>-10.73</td>\n",
              "      <td>5</td>\n",
              "      <td>White</td>\n",
              "      <td>A</td>\n",
              "    </tr>\n",
              "    <tr>\n",
              "      <th>238</th>\n",
              "      <td>9235</td>\n",
              "      <td>404940.000000</td>\n",
              "      <td>1112.0000</td>\n",
              "      <td>-11.23</td>\n",
              "      <td>5</td>\n",
              "      <td>White</td>\n",
              "      <td>A</td>\n",
              "    </tr>\n",
              "    <tr>\n",
              "      <th>239</th>\n",
              "      <td>37882</td>\n",
              "      <td>294903.000000</td>\n",
              "      <td>1783.0000</td>\n",
              "      <td>-7.80</td>\n",
              "      <td>5</td>\n",
              "      <td>Blue</td>\n",
              "      <td>O</td>\n",
              "    </tr>\n",
              "  </tbody>\n",
              "</table>\n",
              "<p>240 rows × 7 columns</p>\n",
              "</div>"
            ],
            "text/plain": [
              "     Temperature_K     Luminosity     Radius  Absolute_magnitude  Star_type  \\\n",
              "0             3068       0.002400     0.1700               16.12          0   \n",
              "1             3042       0.000500     0.1542               16.60          0   \n",
              "2             2600       0.000300     0.1020               18.70          0   \n",
              "3             2800       0.000200     0.1600               16.65          0   \n",
              "4             1939       0.000138     0.1030               20.06          0   \n",
              "..             ...            ...        ...                 ...        ...   \n",
              "235          38940  374830.000000  1356.0000               -9.93          5   \n",
              "236          30839  834042.000000  1194.0000              -10.63          5   \n",
              "237           8829  537493.000000  1423.0000              -10.73          5   \n",
              "238           9235  404940.000000  1112.0000              -11.23          5   \n",
              "239          37882  294903.000000  1783.0000               -7.80          5   \n",
              "\n",
              "    Star_color Spectral_Class  \n",
              "0          Red              M  \n",
              "1          Red              M  \n",
              "2          Red              M  \n",
              "3          Red              M  \n",
              "4          Red              M  \n",
              "..         ...            ...  \n",
              "235       Blue              O  \n",
              "236       Blue              O  \n",
              "237      White              A  \n",
              "238      White              A  \n",
              "239       Blue              O  \n",
              "\n",
              "[240 rows x 7 columns]"
            ]
          },
          "metadata": {},
          "output_type": "display_data"
        }
      ],
      "source": [
        "df1 = df.rename(columns={'Temperature (K)': 'Temperature_K'})\n",
        "df2=df1.rename(columns={'Luminosity(L/Lo)': 'Luminosity'})\n",
        "df3=df2.rename(columns={'Radius(R/Ro)': 'Radius'})\n",
        "df4=df3.rename(columns={'Absolute magnitude(Mv)': 'Absolute_magnitude'})\n",
        "df5=df4.rename(columns={'Star type': 'Star_type'})\n",
        "df6=df5.rename(columns={'Star color': 'Star_color'})\n",
        "df7=df6.rename(columns={'Spectral Class': 'Spectral_Class'})\n",
        "display(df7)"
      ]
    },
    {
      "cell_type": "code",
      "execution_count": null,
      "metadata": {
        "id": "vXFtwzvftAMH",
        "outputId": "3a5ce973-198d-4b1e-c773-91b942ee49dd"
      },
      "outputs": [
        {
          "name": "stdout",
          "output_type": "stream",
          "text": [
            "shape:  (240, 7)\n"
          ]
        }
      ],
      "source": [
        "print('shape: ', df7.shape)"
      ]
    },
    {
      "cell_type": "markdown",
      "metadata": {
        "id": "IYZt6iHKtAMH"
      },
      "source": [
        "**Датасет содержит характеристики звёзд**"
      ]
    },
    {
      "cell_type": "markdown",
      "metadata": {
        "id": "2e5uZzNttAMI"
      },
      "source": [
        "**Цель:**\n",
        "Цель создания набора данных - доказать, что звезды следуют определенному графику в небесном пространстве,специально называемому диаграммой Герцшпрунга-Рассела или просто HR-диаграммой,чтобы мы могли классифицировать звезды,нанося их характеристики на основе этого графика."
      ]
    },
    {
      "cell_type": "markdown",
      "metadata": {
        "id": "E85Hc_cztAMI"
      },
      "source": [
        "- **Temperature_K** - температуры в Кельвинах\n",
        "- **Luminosity**- относительная яркость\n",
        "- **Radius** -относительный радиус\n",
        "- **Absolute_magnitude** -абсолютная величина - подразумевается \"Абсолютная звёздная величина\" или блеск объекта\n",
        "- **Star_color** - цвет\n",
        "- **Spectral_Class** - спектральный класс\n",
        "- **Star_type** - тип от 0 до 5:<br>\n",
        "  **own Dwarf**-> Star Type = 0 <br>\n",
        "  **Red Dwarf** -> Star Type = 1 <br>\n",
        "  **White Dwarf**-> Star Type = 2 <br>\n",
        "  **Main Sequence**-> Star Type = 3 <br>\n",
        "  **Supergiant** -> Star Type = 4 <br>\n",
        "  **Hypergiant** -> Star Type = 5<br>"
      ]
    },
    {
      "cell_type": "markdown",
      "metadata": {
        "id": "rM9k2hcWtAMI"
      },
      "source": [
        "**1. Многоклассовая классификация:**"
      ]
    },
    {
      "cell_type": "markdown",
      "metadata": {
        "id": "vrlptJa5tAMI"
      },
      "source": [
        "1.1 На любом датасете продемонстрировать многоклассовую классификацию с помощью ЛЮБОГО алгоритма. Оценить accuracy.\n",
        "\n",
        "1.2. То же самое с использованием кросс-валидации\n",
        "\n",
        "1.3. Поиграться с гиперпараметром, связанным со сложностью модели (в случае kNN — k_neighbours) и построить график accuracy для train set и test_set для разных значений гиперпараметра (в лекции есть пример построения подобного графика для kNN и датасета cancer, но можно строить как угодно такой график)\n",
        "\n",
        "1.4. Построить confusion matrix (это вроде матрицы TN / TP/ FN/ FP, только расширенной для многоклассовой классификации, чтобы понять в какие стороны чаще ошибается классификатор). ([пример](https://scikit-learn.org/stable/auto_examples/model_selection/plot_confusion_matrix.html)):"
      ]
    },
    {
      "cell_type": "code",
      "execution_count": null,
      "metadata": {
        "id": "hhstl_nttAMJ",
        "outputId": "47186fc9-e7c0-4693-a89f-5077f22b1e62"
      },
      "outputs": [
        {
          "data": {
            "text/plain": [
              "'confusion_scores = sklearn.metrics.confusion_matrix( y_test, y_pred )\\nconfusion_df = pd.DataFrame( confusion_scores, columns = iris.target_names, index = iris.target_names )\\nsns.heatmap( confusion_df, annot = True  )'"
            ]
          },
          "execution_count": 63,
          "metadata": {},
          "output_type": "execute_result"
        }
      ],
      "source": [
        "\"\"\"confusion_scores = sklearn.metrics.confusion_matrix( y_test, y_pred )\n",
        "confusion_df = pd.DataFrame( confusion_scores, columns = iris.target_names, index = iris.target_names )\n",
        "sns.heatmap( confusion_df, annot = True  )\"\"\""
      ]
    },
    {
      "cell_type": "code",
      "execution_count": null,
      "metadata": {
        "id": "zEwdcskHtAMJ"
      },
      "outputs": [],
      "source": []
    },
    {
      "cell_type": "markdown",
      "metadata": {
        "id": "k631NJyMtAMJ"
      },
      "source": [
        "**Классификация (Decision tree)**"
      ]
    },
    {
      "cell_type": "markdown",
      "metadata": {
        "id": "yilcRm8qtAMK"
      },
      "source": [
        "Балансировка целевой переменной (тип звезды):"
      ]
    },
    {
      "cell_type": "code",
      "execution_count": null,
      "metadata": {
        "id": "aeDH64IQtAMK",
        "outputId": "a97d7d50-83de-416a-d955-eb06147f5c4f"
      },
      "outputs": [
        {
          "data": {
            "image/png": "[encoded data removed]",
            "text/plain": [
              "<Figure size 1080x360 with 1 Axes>"
            ]
          },
          "metadata": {
            "needs_background": "light"
          },
          "output_type": "display_data"
        }
      ],
      "source": [
        "fig, ax = plt.subplots(figsize=(15,5))\n",
        "sns.countplot(df7['Star_type'], palette='pastel')\n",
        "ax.set(title='Количество звёзд в каждом классе')\n",
        "plt.show()"
      ]
    },
    {
      "cell_type": "markdown",
      "metadata": {
        "id": "jNFKZCFUtAMK"
      },
      "source": [
        "Вывод: целевая переменная хорошо сбалансирована"
      ]
    },
    {
      "cell_type": "markdown",
      "metadata": {
        "id": "tLa_-OwptAMK"
      },
      "source": [
        "**Посмотрим корреляцию между признаками:**"
      ]
    },
    {
      "cell_type": "code",
      "execution_count": null,
      "metadata": {
        "id": "wLOq7ZR2tAMK",
        "outputId": "212b0cb2-fb76-4517-853b-d14faf3b6ab0"
      },
      "outputs": [
        {
          "data": {
            "image/png": "[encoded data removed]",
            "text/plain": [
              "<Figure size 720x720 with 2 Axes>"
            ]
          },
          "metadata": {
            "needs_background": "light"
          },
          "output_type": "display_data"
        }
      ],
      "source": [
        "\n",
        "df7 = pd.DataFrame.from_dict(df7)\n",
        "df7['Star_type'] = df7['Star_type'].astype('category').cat.codes\n",
        "df7['Star_color'] = df7['Star_color'].astype('category').cat.codes\n",
        "df7['Spectral_Class'] = df7['Spectral_Class'].astype('category').cat.codes\n",
        "\n",
        "corr = df7.corr(method='spearman')\n",
        "mask = np.zeros_like(corr, dtype=np.bool)\n",
        "mask[np.triu_indices_from(mask)] = True\n",
        "f, ax = plt.subplots(figsize=(10, 10))\n",
        "cmap = sns.diverging_palette(10, 150, 50, as_cmap=True)\n",
        "sns.heatmap(corr,\n",
        "            mask=mask,\n",
        "            cmap=cmap,\n",
        "            square=True,\n",
        "            linewidths=.5,\n",
        "            cbar_kws={\"shrink\": .5},\n",
        "            annot=True)\n",
        "plt.show()"
      ]
    },
    {
      "cell_type": "markdown",
      "metadata": {
        "id": "iMKxZTsmtAML"
      },
      "source": [
        "Вывод: целевая переменная хорошо коррелирует с признаками Luminosity, Radius,Absolute_magnitude"
      ]
    },
    {
      "cell_type": "markdown",
      "metadata": {
        "id": "_dpHmCL8tAML"
      },
      "source": [
        "**Параметры для дерева решений**"
      ]
    },
    {
      "cell_type": "code",
      "execution_count": null,
      "metadata": {
        "id": "UUDXjt4ZtAML"
      },
      "outputs": [],
      "source": [
        " params = dict(max_depth = np.linspace(1, 32, 32, endpoint=True),\n",
        "                      min_samples_split = np.linspace(0.01, 0.1, 10, endpoint=True),\n",
        "                      min_samples_leaf = np.linspace(0.01, 0.1, 10, endpoint=True)\n",
        "                      )"
      ]
    },
    {
      "cell_type": "markdown",
      "metadata": {
        "id": "NPOpoOaztAML"
      },
      "source": [
        "**Поиск лучших гиперпараметров**"
      ]
    },
    {
      "cell_type": "code",
      "execution_count": null,
      "metadata": {
        "id": "rJ4FlKeNtAML"
      },
      "outputs": [],
      "source": [
        "def do_grid_search(model,params, x_train, y_train, x_test, refit='accuracy'):\n",
        "    cv = StratifiedKFold(n_splits=5, random_state=42, shuffle=False)\n",
        "    grid_search = GridSearchCV(model, params, scoring=['accuracy'],\n",
        "                                n_jobs=4, cv=cv, verbose=3, refit=refit)\n",
        "    grid_search.fit(x_train.values, y_train.values)\n",
        "    y_pred = grid_search.predict(x_test.values)\n",
        "    print('Best params for {}'.format(refit))\n",
        "    print(grid_search.best_params_)"
      ]
    },
    {
      "cell_type": "markdown",
      "metadata": {
        "id": "_DJ-elHStAML"
      },
      "source": [
        "**Вывод результата**"
      ]
    },
    {
      "cell_type": "code",
      "execution_count": null,
      "metadata": {
        "id": "svdRx7sCtAMM"
      },
      "outputs": [],
      "source": [
        "def print_result(y_test, pred=None):\n",
        "  print(\"результат классификации: \\n\", classification_report(y_test, pred))\n",
        "  conf_matrix = confusion_matrix(y_test, pred)\n",
        "  print(\"Матрица ошибок: \\n\", conf_matrix, \"\\n\")\n",
        "  cmap = sns.diverging_palette(220, 10, 50, as_cmap=True)\n",
        "  sns.heatmap(conf_matrix, cmap = cmap, annot=True)\n",
        "  plt.show()"
      ]
    },
    {
      "cell_type": "code",
      "execution_count": null,
      "metadata": {
        "id": "vyFM7ZQctAMM"
      },
      "outputs": [],
      "source": [
        "X_train, X_test, y_train, y_test = train_test_split(df7.drop('Star_type',axis=1), df7['Star_type'], test_size=0.6, random_state=42)"
      ]
    },
    {
      "cell_type": "markdown",
      "metadata": {
        "id": "chO4URI0tAMM"
      },
      "source": [
        "**Без настройки гиперпараметров**"
      ]
    },
    {
      "cell_type": "code",
      "execution_count": null,
      "metadata": {
        "id": "QqFflLBdtAMM",
        "outputId": "ecb56c89-6e22-4325-d26d-47c00dea959c"
      },
      "outputs": [
        {
          "name": "stdout",
          "output_type": "stream",
          "text": [
            "результат классификации: \n",
            "               precision    recall  f1-score   support\n",
            "\n",
            "           0       1.00      1.00      1.00        26\n",
            "           1       1.00      1.00      1.00        25\n",
            "           2       1.00      1.00      1.00        25\n",
            "           3       1.00      1.00      1.00        24\n",
            "           4       0.91      1.00      0.95        20\n",
            "           5       1.00      0.92      0.96        24\n",
            "\n",
            "    accuracy                           0.99       144\n",
            "   macro avg       0.98      0.99      0.98       144\n",
            "weighted avg       0.99      0.99      0.99       144\n",
            "\n",
            "Матрица ошибок: \n",
            " [[26  0  0  0  0  0]\n",
            " [ 0 25  0  0  0  0]\n",
            " [ 0  0 25  0  0  0]\n",
            " [ 0  0  0 24  0  0]\n",
            " [ 0  0  0  0 20  0]\n",
            " [ 0  0  0  0  2 22]] \n",
            "\n"
          ]
        },
        {
          "data": {
            "image/png": "[encoded data removed]",
            "text/plain": [
              "<Figure size 432x288 with 2 Axes>"
            ]
          },
          "metadata": {
            "needs_background": "light"
          },
          "output_type": "display_data"
        },
        {
          "name": "stdout",
          "output_type": "stream",
          "text": [
            "Средняя точность без настройки гиперпараметров:  0.9789473684210526\n"
          ]
        }
      ],
      "source": [
        "dtree = DecisionTreeClassifier(random_state=42)\n",
        "dtree.fit(X_train, y_train)\n",
        "predictions = dtree.predict(X_test)\n",
        "\n",
        "print_result(y_test=y_test, pred=predictions)\n",
        "score = cross_val_score(dtree, X_train, y_train, cv=5, scoring='accuracy')\n",
        "print('Средняя точность без настройки гиперпараметров: ', np.mean(score))"
      ]
    },
    {
      "cell_type": "markdown",
      "metadata": {
        "id": "UgorDnpDtAMM"
      },
      "source": [
        "Вывод: точность довольно высокая, следовательно настройка гиперпараметров вряд ли даст значительное улучшение."
      ]
    },
    {
      "cell_type": "markdown",
      "metadata": {
        "id": "KnFcjSXntAMN"
      },
      "source": [
        "**Настройка гиперпараметров**"
      ]
    },
    {
      "cell_type": "code",
      "execution_count": null,
      "metadata": {
        "id": "176rCha2tAMN",
        "outputId": "23976ccd-f95a-4eb1-979b-8911d4c05312"
      },
      "outputs": [
        {
          "name": "stdout",
          "output_type": "stream",
          "text": [
            "результат классификации: \n",
            "               precision    recall  f1-score   support\n",
            "\n",
            "           0       1.00      1.00      1.00        26\n",
            "           1       1.00      1.00      1.00        25\n",
            "           2       1.00      1.00      1.00        25\n",
            "           3       1.00      1.00      1.00        24\n",
            "           4       0.91      1.00      0.95        20\n",
            "           5       1.00      0.92      0.96        24\n",
            "\n",
            "    accuracy                           0.99       144\n",
            "   macro avg       0.98      0.99      0.98       144\n",
            "weighted avg       0.99      0.99      0.99       144\n",
            "\n",
            "Матрица ошибок: \n",
            " [[26  0  0  0  0  0]\n",
            " [ 0 25  0  0  0  0]\n",
            " [ 0  0 25  0  0  0]\n",
            " [ 0  0  0 24  0  0]\n",
            " [ 0  0  0  0 20  0]\n",
            " [ 0  0  0  0  2 22]] \n",
            "\n"
          ]
        },
        {
          "data": {
            "image/png": "[encoded data removed]",
            "text/plain": [
              "<Figure size 432x288 with 2 Axes>"
            ]
          },
          "metadata": {
            "needs_background": "light"
          },
          "output_type": "display_data"
        },
        {
          "name": "stdout",
          "output_type": "stream",
          "text": [
            "Средняя точность с настройкой гиперпараметров GridSearch:  0.9789473684210526\n"
          ]
        }
      ],
      "source": [
        "dtree_grid = DecisionTreeClassifier(random_state=42, max_depth=4.0, min_samples_leaf=0.01, min_samples_split=0.01)\n",
        "\n",
        "print_result(y_test=y_test, pred=dtree_grid.fit(X_train, y_train).predict(X_test))\n",
        "score = cross_val_score(dtree_grid, X_train, y_train, cv=5, scoring='accuracy')\n",
        "print('Средняя точность с настройкой гиперпараметров GridSearch: ', np.mean(score))"
      ]
    },
    {
      "cell_type": "code",
      "execution_count": null,
      "metadata": {
        "id": "jJLTkBQytAMN"
      },
      "outputs": [],
      "source": [
        "max_depth = np.linspace(1, 32, 32, endpoint=True)\n",
        "accuracy_result = []\n",
        "cv_result = []\n",
        "for md in max_depth:\n",
        "  model = DecisionTreeClassifier(random_state=42, max_depth=md)\n",
        "  model.fit(X_train ,y_train)\n",
        "  model_pred = model.predict(X_test)\n",
        "  accuracy_result.append(accuracy_score(y_test, model_pred))\n",
        "  scores = cross_val_score(model, X_train, y_train, cv=5)\n",
        "  cv_result.append(np.mean(scores))"
      ]
    },
    {
      "cell_type": "code",
      "execution_count": null,
      "metadata": {
        "id": "WyH1Gu5ltAMN",
        "outputId": "cf8fc9d4-e710-46d6-ed89-642b70d6ba5a"
      },
      "outputs": [
        {
          "data": {
            "image/png": "[encoded data removed]",
            "text/plain": [
              "<Figure size 432x288 with 1 Axes>"
            ]
          },
          "metadata": {
            "needs_background": "light"
          },
          "output_type": "display_data"
        }
      ],
      "source": [
        "plt.plot(max_depth, accuracy_result, color='b', label='Accuracy', alpha=0.7)\n",
        "plt.plot(max_depth, cv_result, color='r', label='CV accuracy', alpha=0.7)\n",
        "plt.title('Train-Test accuracy vs CV accuracy')\n",
        "plt.xlabel('max depth'); plt.ylabel('accuracy')\n",
        "plt.legend()\n",
        "plt.show()"
      ]
    },
    {
      "cell_type": "markdown",
      "metadata": {
        "id": "ylwa_mvItAMN"
      },
      "source": [
        "Вывод: рост точности происходит до глубины 4, далее точность константна."
      ]
    },
    {
      "cell_type": "code",
      "execution_count": null,
      "metadata": {
        "id": "RDIAfSxBtAMO"
      },
      "outputs": [],
      "source": [
        "accuracy_result_train, accuracy_result_test = [],[]\n",
        "for md in max_depth:\n",
        "  model = DecisionTreeClassifier(random_state=42, max_depth=md)\n",
        "  model.fit(X_train ,y_train)\n",
        "  model_pred = model.predict(X_train)\n",
        "  accuracy_result_train.append(accuracy_score(y_train, model_pred))\n",
        "\n",
        "  model.fit(X_test ,y_test)\n",
        "  model_pred = model.predict(X_test)\n",
        "  accuracy_result_test.append(accuracy_score(y_test, model_pred))"
      ]
    },
    {
      "cell_type": "code",
      "execution_count": null,
      "metadata": {
        "id": "T4zEIyhxtAMO",
        "outputId": "d1d06e0c-f76a-480f-aa6e-f237a10b6002"
      },
      "outputs": [
        {
          "data": {
            "image/png": "[encoded data removed]",
            "text/plain": [
              "<Figure size 432x288 with 1 Axes>"
            ]
          },
          "metadata": {
            "needs_background": "light"
          },
          "output_type": "display_data"
        }
      ],
      "source": [
        "plt.plot(max_depth, accuracy_result_test, color='b', label='Test', alpha=0.7)\n",
        "plt.plot(max_depth, accuracy_result_train, color='r', label='Train', alpha=0.7)\n",
        "plt.title('Train vs Test accuracy')\n",
        "plt.xlabel('max depth'); plt.ylabel('accuracy')\n",
        "plt.legend()\n",
        "plt.show()"
      ]
    },
    {
      "cell_type": "markdown",
      "metadata": {
        "id": "wakR65-xtAMO"
      },
      "source": [
        "\n",
        "Вывод: такой же результат дала настройка гиперпараметров поиском по сетке.\n",
        "Следовательно, значение max_depth выдаёт максимальную точность 4."
      ]
    },
    {
      "cell_type": "markdown",
      "metadata": {
        "id": "nLkoZHgHtAMO"
      },
      "source": [
        "**Масштабирование признаков**"
      ]
    },
    {
      "cell_type": "code",
      "execution_count": null,
      "metadata": {
        "id": "I5gu6AS0tAMO"
      },
      "outputs": [],
      "source": [
        "scaler = StandardScaler()\n",
        "X_train_scaled = scaler.fit_transform(X_train)\n",
        "X_test_scaled = scaler.transform(X_test)"
      ]
    },
    {
      "cell_type": "code",
      "execution_count": null,
      "metadata": {
        "id": "QRCRW-eutAMP",
        "outputId": "0c208914-822f-4098-ca1c-61cd5ffe8ce0"
      },
      "outputs": [
        {
          "name": "stdout",
          "output_type": "stream",
          "text": [
            "результат классификации: \n",
            "               precision    recall  f1-score   support\n",
            "\n",
            "           0       1.00      1.00      1.00        26\n",
            "           1       1.00      1.00      1.00        25\n",
            "           2       1.00      1.00      1.00        25\n",
            "           3       1.00      1.00      1.00        24\n",
            "           4       0.91      1.00      0.95        20\n",
            "           5       1.00      0.92      0.96        24\n",
            "\n",
            "    accuracy                           0.99       144\n",
            "   macro avg       0.98      0.99      0.98       144\n",
            "weighted avg       0.99      0.99      0.99       144\n",
            "\n",
            "Матрица ошибок: \n",
            " [[26  0  0  0  0  0]\n",
            " [ 0 25  0  0  0  0]\n",
            " [ 0  0 25  0  0  0]\n",
            " [ 0  0  0 24  0  0]\n",
            " [ 0  0  0  0 20  0]\n",
            " [ 0  0  0  0  2 22]] \n",
            "\n"
          ]
        },
        {
          "data": {
            "image/png": "[encoded data removed]",
            "text/plain": [
              "<Figure size 432x288 with 2 Axes>"
            ]
          },
          "metadata": {
            "needs_background": "light"
          },
          "output_type": "display_data"
        },
        {
          "name": "stdout",
          "output_type": "stream",
          "text": [
            "Средняя точность с масштабируемыми признаками:  0.9789473684210526\n"
          ]
        }
      ],
      "source": [
        "dtree_scaled = DecisionTreeClassifier(random_state=42)\n",
        "\n",
        "print_result(y_test=y_test, pred=dtree_scaled.fit(X_train_scaled, y_train).predict(X_test_scaled))\n",
        "score = cross_val_score(dtree_scaled, X_train_scaled, y_train, cv=5, scoring='accuracy')\n",
        "print('Средняя точность с масштабируемыми признаками: ', np.mean(score))"
      ]
    },
    {
      "cell_type": "markdown",
      "metadata": {
        "pycharm": {
          "name": "#%% md\n"
        },
        "id": "aD5SvQj0tAMP"
      },
      "source": [
        "**2. Бинарная классификация.**"
      ]
    },
    {
      "cell_type": "markdown",
      "metadata": {
        "id": "FWhHwoq2tAMQ"
      },
      "source": [
        "На любом (но уже другом, бинарном) датасете продемонстрировать бинарную классификацию (можно использовать любой алгоритм), посчитать метрики: accuracy, precision, recall, f-measure, а также составить classification_report"
      ]
    },
    {
      "cell_type": "markdown",
      "metadata": {
        "id": "lU_OLNyQtAMQ"
      },
      "source": [
        "**3. Использование нормализации признаков**\n",
        "В обоих задачах (бинарной и многоклассовой классификации) попробовать также вариант с предварительной нормализацией признаков (`StandardScaler`или `MinMaxScaler`). Оценить метрики качества в случае с нормализованными признаками и ненормализованными."
      ]
    },
    {
      "cell_type": "markdown",
      "metadata": {
        "id": "TwtqYIj_tAMQ"
      },
      "source": [
        "**Описание данных**"
      ]
    },
    {
      "cell_type": "markdown",
      "metadata": {
        "id": "xB2FHtFStAMQ"
      },
      "source": [
        "Набор данных: классификация качества вина<br>\n",
        "Этот набор данных содержит информацию, касающуюся красного вина, различных факторов, влияющих на качество.<br>\n",
        "\n",
        "Входные переменные (на основе физико-химических тестов):<br>\n",
        "\n",
        "1-(fixed acidity)-**фиксированная кислотность**<br>\n",
        "2-(volatile acidity)-**летучая кислотность**<br>\n",
        "3-(citric acid)-**лимонная кислота**<br>\n",
        "4-(residual sugar)-**остаточный сахар**<br>\n",
        "5-(chlorides)-**хлориды**<br>\n",
        "6-(free sulfur dioxide)-**свободный диоксид серы**<br>\n",
        "7-(total sulfur dioxide)-**диоксид серы общий**<br>\n",
        "8-(density)-**плотность**<br>\n",
        "9-(pH)-**pH**<br>\n",
        "10-(sulphates)-**сульфаты**<br>\n",
        "11-( alcohol)-**алкоголь**<br>\n",
        "Выходная переменная (на основе сенсорных данных):<br>\n",
        "\n",
        "качество («хорошо» и «плохо» по баллам> 5 и <5)<br>\n",
        "'good' and 'bad' based on score >5 and <5\n",
        "\n"
      ]
    },
    {
      "cell_type": "code",
      "execution_count": null,
      "metadata": {
        "id": "vpCGbQqTtAMQ"
      },
      "outputs": [],
      "source": [
        " !pip install opendatasets"
      ]
    },
    {
      "cell_type": "code",
      "execution_count": null,
      "metadata": {
        "id": "Xj1bVjaVtAMQ"
      },
      "outputs": [],
      "source": [
        "import opendatasets as od"
      ]
    },
    {
      "cell_type": "code",
      "execution_count": null,
      "metadata": {
        "id": "S-sY1qMytAMQ"
      },
      "outputs": [],
      "source": [
        "dataset_w = 'https://www.kaggle.com/datasets/nareshbhat/wine-quality-binary-classification'"
      ]
    },
    {
      "cell_type": "code",
      "execution_count": null,
      "metadata": {
        "id": "WTOhj_6TtAMR"
      },
      "outputs": [],
      "source": [
        "import os"
      ]
    },
    {
      "cell_type": "code",
      "execution_count": null,
      "metadata": {
        "id": "I4-aUtzUtAMR",
        "outputId": "96495732-ec62-4d94-e8c5-d80fd1510f3e"
      },
      "outputs": [
        {
          "name": "stdout",
          "output_type": "stream",
          "text": [
            "Skipping, found downloaded files in \".\\wine-quality-binary-classification\" (use force=True to force download)\n"
          ]
        }
      ],
      "source": [
        "od.download(dataset_w)"
      ]
    },
    {
      "cell_type": "code",
      "execution_count": null,
      "metadata": {
        "id": "8_0bQWjEtAMR"
      },
      "outputs": [],
      "source": [
        "data_dir_w ='.\\wine-quality-binary-classification'"
      ]
    },
    {
      "cell_type": "code",
      "execution_count": null,
      "metadata": {
        "id": "YuX6H3kmtAMR",
        "outputId": "b91d41a0-b072-415a-be16-6ff0cfa5dab5"
      },
      "outputs": [
        {
          "data": {
            "text/plain": [
              "['wine.csv']"
            ]
          },
          "execution_count": 84,
          "metadata": {},
          "output_type": "execute_result"
        }
      ],
      "source": [
        "os.listdir(data_dir_w)"
      ]
    },
    {
      "cell_type": "code",
      "execution_count": null,
      "metadata": {
        "id": "VpTaYFUKtAMR"
      },
      "outputs": [],
      "source": [
        "import pandas as pd"
      ]
    },
    {
      "cell_type": "code",
      "execution_count": null,
      "metadata": {
        "id": "yUwrXPqPtAMR"
      },
      "outputs": [],
      "source": [
        "df_ww = pd.read_csv('wine.csv')"
      ]
    },
    {
      "cell_type": "code",
      "execution_count": null,
      "metadata": {
        "id": "PNCN5-0JtAMR",
        "outputId": "2ad84683-8b0f-4319-82bc-69416e5c39df"
      },
      "outputs": [
        {
          "data": {
            "text/html": [
              "<div>\n",
              "<style scoped>\n",
              "    .dataframe tbody tr th:only-of-type {\n",
              "        vertical-align: middle;\n",
              "    }\n",
              "\n",
              "    .dataframe tbody tr th {\n",
              "        vertical-align: top;\n",
              "    }\n",
              "\n",
              "    .dataframe thead th {\n",
              "        text-align: right;\n",
              "    }\n",
              "</style>\n",
              "<table border=\"1\" class=\"dataframe\">\n",
              "  <thead>\n",
              "    <tr style=\"text-align: right;\">\n",
              "      <th></th>\n",
              "      <th>fixed acidity</th>\n",
              "      <th>volatile acidity</th>\n",
              "      <th>citric acid</th>\n",
              "      <th>residual sugar</th>\n",
              "      <th>chlorides</th>\n",
              "      <th>free sulfur dioxide</th>\n",
              "      <th>total sulfur dioxide</th>\n",
              "      <th>density</th>\n",
              "      <th>pH</th>\n",
              "      <th>sulphates</th>\n",
              "      <th>alcohol</th>\n",
              "      <th>quality</th>\n",
              "    </tr>\n",
              "  </thead>\n",
              "  <tbody>\n",
              "    <tr>\n",
              "      <th>0</th>\n",
              "      <td>7.4</td>\n",
              "      <td>0.700</td>\n",
              "      <td>0.00</td>\n",
              "      <td>1.9</td>\n",
              "      <td>0.076</td>\n",
              "      <td>11.0</td>\n",
              "      <td>34.0</td>\n",
              "      <td>0.99780</td>\n",
              "      <td>3.51</td>\n",
              "      <td>0.56</td>\n",
              "      <td>9.4</td>\n",
              "      <td>bad</td>\n",
              "    </tr>\n",
              "    <tr>\n",
              "      <th>1</th>\n",
              "      <td>7.8</td>\n",
              "      <td>0.880</td>\n",
              "      <td>0.00</td>\n",
              "      <td>2.6</td>\n",
              "      <td>0.098</td>\n",
              "      <td>25.0</td>\n",
              "      <td>67.0</td>\n",
              "      <td>0.99680</td>\n",
              "      <td>3.20</td>\n",
              "      <td>0.68</td>\n",
              "      <td>9.8</td>\n",
              "      <td>bad</td>\n",
              "    </tr>\n",
              "    <tr>\n",
              "      <th>2</th>\n",
              "      <td>7.8</td>\n",
              "      <td>0.760</td>\n",
              "      <td>0.04</td>\n",
              "      <td>2.3</td>\n",
              "      <td>0.092</td>\n",
              "      <td>15.0</td>\n",
              "      <td>54.0</td>\n",
              "      <td>0.99700</td>\n",
              "      <td>3.26</td>\n",
              "      <td>0.65</td>\n",
              "      <td>9.8</td>\n",
              "      <td>bad</td>\n",
              "    </tr>\n",
              "    <tr>\n",
              "      <th>3</th>\n",
              "      <td>11.2</td>\n",
              "      <td>0.280</td>\n",
              "      <td>0.56</td>\n",
              "      <td>1.9</td>\n",
              "      <td>0.075</td>\n",
              "      <td>17.0</td>\n",
              "      <td>60.0</td>\n",
              "      <td>0.99800</td>\n",
              "      <td>3.16</td>\n",
              "      <td>0.58</td>\n",
              "      <td>9.8</td>\n",
              "      <td>good</td>\n",
              "    </tr>\n",
              "    <tr>\n",
              "      <th>4</th>\n",
              "      <td>7.4</td>\n",
              "      <td>0.700</td>\n",
              "      <td>0.00</td>\n",
              "      <td>1.9</td>\n",
              "      <td>0.076</td>\n",
              "      <td>11.0</td>\n",
              "      <td>34.0</td>\n",
              "      <td>0.99780</td>\n",
              "      <td>3.51</td>\n",
              "      <td>0.56</td>\n",
              "      <td>9.4</td>\n",
              "      <td>bad</td>\n",
              "    </tr>\n",
              "    <tr>\n",
              "      <th>...</th>\n",
              "      <td>...</td>\n",
              "      <td>...</td>\n",
              "      <td>...</td>\n",
              "      <td>...</td>\n",
              "      <td>...</td>\n",
              "      <td>...</td>\n",
              "      <td>...</td>\n",
              "      <td>...</td>\n",
              "      <td>...</td>\n",
              "      <td>...</td>\n",
              "      <td>...</td>\n",
              "      <td>...</td>\n",
              "    </tr>\n",
              "    <tr>\n",
              "      <th>1594</th>\n",
              "      <td>6.2</td>\n",
              "      <td>0.600</td>\n",
              "      <td>0.08</td>\n",
              "      <td>2.0</td>\n",
              "      <td>0.090</td>\n",
              "      <td>32.0</td>\n",
              "      <td>44.0</td>\n",
              "      <td>0.99490</td>\n",
              "      <td>3.45</td>\n",
              "      <td>0.58</td>\n",
              "      <td>10.5</td>\n",
              "      <td>bad</td>\n",
              "    </tr>\n",
              "    <tr>\n",
              "      <th>1595</th>\n",
              "      <td>5.9</td>\n",
              "      <td>0.550</td>\n",
              "      <td>0.10</td>\n",
              "      <td>2.2</td>\n",
              "      <td>0.062</td>\n",
              "      <td>39.0</td>\n",
              "      <td>51.0</td>\n",
              "      <td>0.99512</td>\n",
              "      <td>3.52</td>\n",
              "      <td>0.76</td>\n",
              "      <td>11.2</td>\n",
              "      <td>good</td>\n",
              "    </tr>\n",
              "    <tr>\n",
              "      <th>1596</th>\n",
              "      <td>6.3</td>\n",
              "      <td>0.510</td>\n",
              "      <td>0.13</td>\n",
              "      <td>2.3</td>\n",
              "      <td>0.076</td>\n",
              "      <td>29.0</td>\n",
              "      <td>40.0</td>\n",
              "      <td>0.99574</td>\n",
              "      <td>3.42</td>\n",
              "      <td>0.75</td>\n",
              "      <td>11.0</td>\n",
              "      <td>good</td>\n",
              "    </tr>\n",
              "    <tr>\n",
              "      <th>1597</th>\n",
              "      <td>5.9</td>\n",
              "      <td>0.645</td>\n",
              "      <td>0.12</td>\n",
              "      <td>2.0</td>\n",
              "      <td>0.075</td>\n",
              "      <td>32.0</td>\n",
              "      <td>44.0</td>\n",
              "      <td>0.99547</td>\n",
              "      <td>3.57</td>\n",
              "      <td>0.71</td>\n",
              "      <td>10.2</td>\n",
              "      <td>bad</td>\n",
              "    </tr>\n",
              "    <tr>\n",
              "      <th>1598</th>\n",
              "      <td>6.0</td>\n",
              "      <td>0.310</td>\n",
              "      <td>0.47</td>\n",
              "      <td>3.6</td>\n",
              "      <td>0.067</td>\n",
              "      <td>18.0</td>\n",
              "      <td>42.0</td>\n",
              "      <td>0.99549</td>\n",
              "      <td>3.39</td>\n",
              "      <td>0.66</td>\n",
              "      <td>11.0</td>\n",
              "      <td>good</td>\n",
              "    </tr>\n",
              "  </tbody>\n",
              "</table>\n",
              "<p>1599 rows × 12 columns</p>\n",
              "</div>"
            ],
            "text/plain": [
              "      fixed acidity  volatile acidity  citric acid  residual sugar  chlorides  \\\n",
              "0               7.4             0.700         0.00             1.9      0.076   \n",
              "1               7.8             0.880         0.00             2.6      0.098   \n",
              "2               7.8             0.760         0.04             2.3      0.092   \n",
              "3              11.2             0.280         0.56             1.9      0.075   \n",
              "4               7.4             0.700         0.00             1.9      0.076   \n",
              "...             ...               ...          ...             ...        ...   \n",
              "1594            6.2             0.600         0.08             2.0      0.090   \n",
              "1595            5.9             0.550         0.10             2.2      0.062   \n",
              "1596            6.3             0.510         0.13             2.3      0.076   \n",
              "1597            5.9             0.645         0.12             2.0      0.075   \n",
              "1598            6.0             0.310         0.47             3.6      0.067   \n",
              "\n",
              "      free sulfur dioxide  total sulfur dioxide  density    pH  sulphates  \\\n",
              "0                    11.0                  34.0  0.99780  3.51       0.56   \n",
              "1                    25.0                  67.0  0.99680  3.20       0.68   \n",
              "2                    15.0                  54.0  0.99700  3.26       0.65   \n",
              "3                    17.0                  60.0  0.99800  3.16       0.58   \n",
              "4                    11.0                  34.0  0.99780  3.51       0.56   \n",
              "...                   ...                   ...      ...   ...        ...   \n",
              "1594                 32.0                  44.0  0.99490  3.45       0.58   \n",
              "1595                 39.0                  51.0  0.99512  3.52       0.76   \n",
              "1596                 29.0                  40.0  0.99574  3.42       0.75   \n",
              "1597                 32.0                  44.0  0.99547  3.57       0.71   \n",
              "1598                 18.0                  42.0  0.99549  3.39       0.66   \n",
              "\n",
              "      alcohol quality  \n",
              "0         9.4     bad  \n",
              "1         9.8     bad  \n",
              "2         9.8     bad  \n",
              "3         9.8    good  \n",
              "4         9.4     bad  \n",
              "...       ...     ...  \n",
              "1594     10.5     bad  \n",
              "1595     11.2    good  \n",
              "1596     11.0    good  \n",
              "1597     10.2     bad  \n",
              "1598     11.0    good  \n",
              "\n",
              "[1599 rows x 12 columns]"
            ]
          },
          "metadata": {},
          "output_type": "display_data"
        }
      ],
      "source": [
        "display(df_ww)"
      ]
    },
    {
      "cell_type": "markdown",
      "metadata": {
        "id": "XHp_VggYtAMS"
      },
      "source": [
        "**Классификация (Логистическая регрессия)**"
      ]
    },
    {
      "cell_type": "code",
      "execution_count": null,
      "metadata": {
        "id": "bmwgQ_CZtAMS"
      },
      "outputs": [],
      "source": [
        "df_ww = df_ww.replace(['good', 'bad'], [0,1])\n",
        "target = df_ww.quality\n",
        "features = df_ww.drop(['quality'], axis=1)"
      ]
    },
    {
      "cell_type": "code",
      "execution_count": null,
      "metadata": {
        "id": "pdhWfwRTtAMS"
      },
      "outputs": [],
      "source": [
        "X_train, X_test, y_train, y_test = train_test_split(features, target, test_size=0.3, random_state=42, shuffle=True)"
      ]
    },
    {
      "cell_type": "markdown",
      "metadata": {
        "id": "l0aBzOP9tAMS"
      },
      "source": [
        "**Без настройки гиперпараметров**"
      ]
    },
    {
      "cell_type": "code",
      "execution_count": null,
      "metadata": {
        "pycharm": {
          "name": "#%% md\n"
        },
        "id": "Gw5ifXuGtAMS",
        "outputId": "e1ff607d-1a7a-4d0e-f08c-da276dfd2ecf"
      },
      "outputs": [
        {
          "name": "stdout",
          "output_type": "stream",
          "text": [
            "результат классификации: \n",
            "               precision    recall  f1-score   support\n",
            "\n",
            "           0       0.77      0.72      0.75       267\n",
            "           1       0.68      0.73      0.70       213\n",
            "\n",
            "    accuracy                           0.73       480\n",
            "   macro avg       0.72      0.73      0.72       480\n",
            "weighted avg       0.73      0.72      0.73       480\n",
            "\n",
            "Матрица ошибок: \n",
            " [[193  74]\n",
            " [ 58 155]] \n",
            "\n"
          ]
        },
        {
          "data": {
            "image/png": "[encoded data removed]",
            "text/plain": [
              "<Figure size 432x288 with 2 Axes>"
            ]
          },
          "metadata": {
            "needs_background": "light"
          },
          "output_type": "display_data"
        }
      ],
      "source": [
        "lr = LogisticRegression(random_state=42, solver='newton-cg')\n",
        "lr.fit(X_train ,y_train)\n",
        "lr_pred = lr.predict(X_test)\n",
        "\n",
        "print_result(y_test=y_test, pred=lr_pred)\n",
        ""
      ]
    },
    {
      "cell_type": "code",
      "execution_count": null,
      "metadata": {
        "pycharm": {
          "name": "#%%\n"
        },
        "id": "nJK0A0qKtAMS",
        "outputId": "7f570fae-e60c-491e-82cc-cf1ba500ab74"
      },
      "outputs": [
        {
          "name": "stdout",
          "output_type": "stream",
          "text": [
            "Средняя оценка точности:  0.7560898462524023\n"
          ]
        }
      ],
      "source": [
        "scores = cross_val_score(lr, X_train, y_train, cv=5)\n",
        "print('Средняя оценка точности: ', np.mean(scores))"
      ]
    },
    {
      "cell_type": "markdown",
      "metadata": {
        "id": "Unmk1ePWtAMS"
      },
      "source": [
        "**С настройкой**"
      ]
    },
    {
      "cell_type": "code",
      "execution_count": null,
      "metadata": {
        "id": "fJqWCwOqtAMS"
      },
      "outputs": [],
      "source": [
        "penalties = ['l2', 'none']\n",
        "accuracy_result = []\n",
        "cv_result = []\n",
        "for penalty in penalties:\n",
        "  # для 'newton-cg' возможно испльзование только 'l2' или 'none' в качестве параметров\n",
        "  model = LogisticRegression(random_state=42, solver='newton-cg', penalty=penalty)\n",
        "  model.fit(X_train ,y_train)\n",
        "  model_pred = model.predict(X_test)\n",
        "  accuracy_result.append(accuracy_score(y_test, model_pred))\n",
        "  scores = cross_val_score(model, X_train, y_train, cv=5)\n",
        "  cv_result.append(np.mean(scores))"
      ]
    },
    {
      "cell_type": "code",
      "execution_count": null,
      "metadata": {
        "id": "tq92GN8ltAMT",
        "outputId": "7ea7648b-9a6e-4eae-8677-0d7a6383d8f5"
      },
      "outputs": [
        {
          "data": {
            "image/png": "[encoded data removed]",
            "text/plain": [
              "<Figure size 432x288 with 1 Axes>"
            ]
          },
          "metadata": {
            "needs_background": "light"
          },
          "output_type": "display_data"
        }
      ],
      "source": [
        "plt.plot(penalties, accuracy_result, color='b', label='Accuracy', alpha=0.7)\n",
        "plt.plot(penalties, cv_result, color='r', label='CV accuracy', alpha=0.7)\n",
        "plt.title('Train-Test accuracy vs CV accuracy')\n",
        "plt.legend()\n",
        "plt.xlabel('penalties'); plt.ylabel('accuracy')\n",
        "plt.show()"
      ]
    },
    {
      "cell_type": "markdown",
      "metadata": {
        "id": "Qbt_CiLjtAMT"
      },
      "source": [
        "Вывод: Точность по оценке train-test без регуляризации (штрафа) даёт лучший результат, но если использовать в качестве оценки алгоритма кросс-валидацию, то с использованием L2-регуляризации точность алгоритма имеет максимальное значение."
      ]
    },
    {
      "cell_type": "code",
      "execution_count": null,
      "metadata": {
        "id": "AOqHVeNTtAMU"
      },
      "outputs": [],
      "source": [
        "accuracy_result_train, accuracy_result_test = [],[]\n",
        "for penalty in penalties:\n",
        "  model = LogisticRegression(random_state=42, solver='newton-cg', penalty=penalty)\n",
        "  model.fit(X_train ,y_train)\n",
        "  model_pred = model.predict(X_train)\n",
        "  accuracy_result_train.append(accuracy_score(y_train, model_pred))\n",
        "\n",
        "  model.fit(X_test ,y_test)\n",
        "  model_pred = model.predict(X_test)\n",
        "  accuracy_result_test.append(accuracy_score(y_test, model_pred))"
      ]
    },
    {
      "cell_type": "code",
      "execution_count": null,
      "metadata": {
        "id": "_o4wm_pftAMV",
        "outputId": "42889492-b16b-47d3-ea29-ff365e8a068c"
      },
      "outputs": [
        {
          "data": {
            "image/png": "[encoded data removed]",
            "text/plain": [
              "<Figure size 432x288 with 1 Axes>"
            ]
          },
          "metadata": {
            "needs_background": "light"
          },
          "output_type": "display_data"
        }
      ],
      "source": [
        "plt.plot(penalties, accuracy_result_test, color='b', label='Test', alpha=0.7)\n",
        "plt.plot(penalties, accuracy_result_train, color='r', label='Train', alpha=0.7)\n",
        "plt.title('Train vs Test accuracy')\n",
        "plt.xlabel('penalties'); plt.ylabel('accuracy')\n",
        "plt.legend()\n",
        "plt.show()"
      ]
    },
    {
      "cell_type": "markdown",
      "metadata": {
        "id": "nOKm2n0JtAMV"
      },
      "source": [
        "**Масштабирование признаков**"
      ]
    },
    {
      "cell_type": "code",
      "execution_count": null,
      "metadata": {
        "id": "Ij9_bXmztAMV"
      },
      "outputs": [],
      "source": [
        "scaler = StandardScaler()\n",
        "X_train_scaled = scaler.fit_transform(X_train)\n",
        "X_test_scaled = scaler.transform(X_test)"
      ]
    },
    {
      "cell_type": "code",
      "execution_count": null,
      "metadata": {
        "id": "Ig06u9-PtAMV",
        "outputId": "f448c5a2-5733-48b3-8e6b-5f2392808f65"
      },
      "outputs": [
        {
          "name": "stdout",
          "output_type": "stream",
          "text": [
            "результат классификации: \n",
            "               precision    recall  f1-score   support\n",
            "\n",
            "           0       0.78      0.73      0.76       267\n",
            "           1       0.69      0.74      0.71       213\n",
            "\n",
            "    accuracy                           0.74       480\n",
            "   macro avg       0.73      0.74      0.73       480\n",
            "weighted avg       0.74      0.74      0.74       480\n",
            "\n",
            "Матрица ошибок: \n",
            " [[196  71]\n",
            " [ 56 157]] \n",
            "\n"
          ]
        },
        {
          "data": {
            "image/png": "[encoded data removed]",
            "text/plain": [
              "<Figure size 432x288 with 2 Axes>"
            ]
          },
          "metadata": {
            "needs_background": "light"
          },
          "output_type": "display_data"
        }
      ],
      "source": [
        "lr = LogisticRegression(random_state=42, solver='newton-cg')\n",
        "lr.fit(X_train_scaled ,y_train)\n",
        "lr_pred = lr.predict(X_test_scaled)\n",
        "\n",
        "print_result(y_test=y_test, pred=lr_pred)"
      ]
    },
    {
      "cell_type": "code",
      "execution_count": null,
      "metadata": {
        "id": "mtRTcFmKtAMV",
        "outputId": "83dfdaf1-d9a1-4794-aa70-04d1bc184c91"
      },
      "outputs": [
        {
          "name": "stdout",
          "output_type": "stream",
          "text": [
            "Средняя оценка точности:  0.7498478539397821\n"
          ]
        }
      ],
      "source": [
        "scores = cross_val_score(lr, X_train_scaled, y_train, cv=5)\n",
        "print('Средняя оценка точности: ', np.mean(scores))"
      ]
    },
    {
      "cell_type": "markdown",
      "metadata": {
        "id": "yPH3WCM4tAMV"
      },
      "source": [
        "Вывод: С использованием масштабирования признаков точность алгоритма уменьшилась."
      ]
    },
    {
      "cell_type": "markdown",
      "metadata": {
        "id": "JRp4rrwxtAMW"
      },
      "source": [
        "**Настройка гиперпараметров**"
      ]
    },
    {
      "cell_type": "code",
      "execution_count": null,
      "metadata": {
        "id": "FQWyD0UqtAMW"
      },
      "outputs": [],
      "source": [
        "params={\"C\":[*np.arange(0,1,0.01)], \"penalty\":[\"none\",\"l2\"]}\n",
        "do_grid_search(model=lr,  params=params, x_train=X_train, y_train=y_train, x_test=X_test)"
      ]
    },
    {
      "cell_type": "code",
      "execution_count": null,
      "metadata": {
        "id": "-S5jl_HStAMW",
        "outputId": "6f676452-8f0e-43ee-d51f-f3c4fdd742d7"
      },
      "outputs": [
        {
          "name": "stdout",
          "output_type": "stream",
          "text": [
            "результат классификации: \n",
            "               precision    recall  f1-score   support\n",
            "\n",
            "           0       0.75      0.72      0.73       267\n",
            "           1       0.66      0.69      0.68       213\n",
            "\n",
            "    accuracy                           0.71       480\n",
            "   macro avg       0.71      0.71      0.71       480\n",
            "weighted avg       0.71      0.71      0.71       480\n",
            "\n",
            "Матрица ошибок: \n",
            " [[192  75]\n",
            " [ 65 148]] \n",
            "\n"
          ]
        },
        {
          "data": {
            "image/png": "[encoded data removed]",
            "text/plain": [
              "<Figure size 432x288 with 2 Axes>"
            ]
          },
          "metadata": {
            "needs_background": "light"
          },
          "output_type": "display_data"
        },
        {
          "name": "stdout",
          "output_type": "stream",
          "text": [
            "Средняя точность с настройкой гиперпараметров GridSearch:  0.7587604099935938\n"
          ]
        }
      ],
      "source": [
        "lr = LogisticRegression(C=.34,penalty=\"l2\")\n",
        "lr.fit(X_train,y_train)\n",
        "\n",
        "print_result(y_test=y_test, pred=lr.fit(X_train, y_train).predict(X_test))\n",
        "score = cross_val_score(lr, X_train, y_train, cv=5, scoring='accuracy')\n",
        "print('Средняя точность с настройкой гиперпараметров GridSearch: ', np.mean(score))"
      ]
    },
    {
      "cell_type": "markdown",
      "metadata": {
        "id": "9nRcOY_vtAMW"
      },
      "source": [
        "Вывод: С настройкой гиперпараметров точность алгоритма увеличались на ~0.002"
      ]
    },
    {
      "cell_type": "code",
      "execution_count": null,
      "metadata": {
        "id": "j4KpnpDVtAMW"
      },
      "outputs": [],
      "source": []
    }
  ],
  "metadata": {
    "kernelspec": {
      "display_name": "Python 3 (ipykernel)",
      "language": "python",
      "name": "python3"
    },
    "language_info": {
      "codemirror_mode": {
        "name": "ipython",
        "version": 3
      },
      "file_extension": ".py",
      "mimetype": "text/x-python",
      "name": "python",
      "nbconvert_exporter": "python",
      "pygments_lexer": "ipython3",
      "version": "3.9.7"
    },
    "colab": {
      "provenance": []
    }
  },
  "nbformat": 4,
  "nbformat_minor": 0
}