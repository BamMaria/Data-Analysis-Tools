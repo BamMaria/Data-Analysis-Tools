{
  "cells": [
    {
      "cell_type": "markdown",
      "metadata": {
        "collapsed": true,
        "pycharm": {
          "name": "#%% md\n"
        },
        "id": "MIKezb0ekn9E"
      },
      "source": [
        "# Лабораторная работа 0\n",
        "Numpy\n",
        "\n",
        "Выполнил: 6306, Бамбурова Мария Владимировна"
      ]
    },
    {
      "cell_type": "markdown",
      "metadata": {
        "pycharm": {
          "name": "#%% md\n"
        },
        "id": "h7fBfoKFkn9I"
      },
      "source": [
        "Лабораторная работа не обязательна для выполнения, но рекомендуется для тех, кто не знаком с библиотекой numpy и работой с многомерными массивами."
      ]
    },
    {
      "cell_type": "markdown",
      "metadata": {
        "pycharm": {
          "name": "#%% md\n"
        },
        "id": "-BzMliLakn9I"
      },
      "source": [
        "1 Взять из документации по numpy 12 любых функций / методов / операторов и продемонстрировать их работу. Для каждой функции добавить комментарий."
      ]
    },
    {
      "cell_type": "code",
      "execution_count": null,
      "metadata": {
        "id": "eJtD5ZsDkn9J",
        "outputId": "57311f08-b73f-4ab0-90c5-1904971483b1",
        "colab": {
          "base_uri": "https://localhost:8080/"
        }
      },
      "outputs": [
        {
          "output_type": "stream",
          "name": "stdout",
          "text": [
            "[[1 2 3]\n",
            " [4 5 6]]\n"
          ]
        }
      ],
      "source": [
        "import numpy as np\n",
        "\n",
        "a = np.array([[1,2,3],[4,5,6]])\n",
        "print(a)\n"
      ]
    },
    {
      "cell_type": "code",
      "execution_count": null,
      "metadata": {
        "id": "wsFgfnZhkn9L"
      },
      "outputs": [],
      "source": [
        "ФУНКЦИИ"
      ]
    },
    {
      "cell_type": "code",
      "execution_count": null,
      "metadata": {
        "id": "AbJvAzALkn9L",
        "outputId": "3b9c8a71-9d5f-4d50-d0e5-6b76cf916b36",
        "colab": {
          "base_uri": "https://localhost:8080/"
        }
      },
      "outputs": [
        {
          "output_type": "stream",
          "name": "stdout",
          "text": [
            "<class 'numpy.ndarray'>\n"
          ]
        }
      ],
      "source": [
        "\n",
        "#1)type(numpy.ndarray)\n",
        "#Это функция Python, используемая, чтобы вернуть тип переданного параметра. В случае с массивом numpy, она вернет numpy.ndarray.\n",
        "import numpy as np\n",
        "\n",
        "a = np.array([[1,2,3],[4,5,6]])\n",
        "print(type(a))"
      ]
    },
    {
      "cell_type": "code",
      "execution_count": null,
      "metadata": {
        "id": "pSiCfVXFkn9M",
        "outputId": "a082e264-2a5f-487f-8fb8-bea5b8847668"
      },
      "outputs": [
        {
          "data": {
            "text/plain": [
              "array([[0., 0., 0.],\n",
              "       [0., 0., 0.],\n",
              "       [0., 0., 0.]])"
            ]
          },
          "execution_count": 14,
          "metadata": {},
          "output_type": "execute_result"
        }
      ],
      "source": [
        "#2)numpy.zeroes()\n",
        "#numpy.zeros((rows, columns), dtype)\n",
        "#Эта функция создаст массив numpy с заданным количеством измерений, где каждый элемент будет равняться 0.\n",
        "#Если dtype не указан, по умолчанию будет использоваться dtype.\n",
        "np.zeros((3,3))"
      ]
    },
    {
      "cell_type": "code",
      "execution_count": null,
      "metadata": {
        "id": "_XpykbBSkn9M",
        "outputId": "aa9a2da0-73a9-41b8-bdc7-fda1293145d8"
      },
      "outputs": [
        {
          "data": {
            "text/plain": [
              "array([[1., 1., 1.],\n",
              "       [1., 1., 1.],\n",
              "       [1., 1., 1.]])"
            ]
          },
          "execution_count": 15,
          "metadata": {},
          "output_type": "execute_result"
        }
      ],
      "source": [
        "#3)numpy.ones()\n",
        "#numpy.ones((rows,columns), dtype)\n",
        "#Эта функция создаст массив numpy с заданным количеством измерений, где каждый элемент будет равняться 1.\n",
        "#Если dtype не указан, по умолчанию будет использоваться dtype.\n",
        "np.ones((3,3))"
      ]
    },
    {
      "cell_type": "code",
      "execution_count": null,
      "metadata": {
        "id": "tSq-PhLUkn9N",
        "outputId": "e61cafef-f733-4505-e96c-dbf34592fc11"
      },
      "outputs": [
        {
          "data": {
            "text/plain": [
              "array([[1., 1., 1.],\n",
              "       [1., 1., 1.],\n",
              "       [1., 1., 1.]])"
            ]
          },
          "execution_count": 17,
          "metadata": {},
          "output_type": "execute_result"
        }
      ],
      "source": [
        "#4)numpy.empty()\n",
        "#numpy.empty((rows,columns))\n",
        "#Эта функция создаст массив, содержимое которого будет случайным — оно зависит от состояния памяти.\n",
        "np.empty((3,3))\n"
      ]
    },
    {
      "cell_type": "code",
      "execution_count": null,
      "metadata": {
        "id": "RPwA2d4Ykn9O",
        "outputId": "ce080976-77f8-4cb7-a4c1-570f1b2cb3e0"
      },
      "outputs": [
        {
          "name": "stdout",
          "output_type": "stream",
          "text": [
            "[ 5  9 13 17 21]\n"
          ]
        }
      ],
      "source": [
        "#5)numpy.arrange()\n",
        "#numpy.arrange(start, stop, step)\n",
        "#Эта функция используется для создания массива numpy,\n",
        "#элементы которого лежат в диапазоне значений от start до stop с разницей равной step.\n",
        "a=np.arange(5,25,4)\n",
        "print(a)"
      ]
    },
    {
      "cell_type": "code",
      "execution_count": null,
      "metadata": {
        "id": "IbmEfTwakn9O",
        "outputId": "d73f84a5-82e3-495e-d660-8f7c1d9ae6ca"
      },
      "outputs": [
        {
          "name": "stdout",
          "output_type": "stream",
          "text": [
            "[ 5. 10. 15. 20. 25.]\n"
          ]
        }
      ],
      "source": [
        "#6)numpy.linspace()\n",
        "#numpy.linspace(start, stop, num_of_elements)\n",
        "#Эта функция создаст массив numpy, элементы которого лежат в диапазоне значений между start до stop, а num_of_elements — это размер массива.\n",
        "#Тип по умолчанию — float64.\n",
        "import numpy as np\n",
        "a=np.linspace(5,25,5)\n",
        "print(a)"
      ]
    },
    {
      "cell_type": "code",
      "execution_count": null,
      "metadata": {
        "id": "My_gwbLFkn9P",
        "outputId": "1c75d53a-f2c4-4ad2-8a33-4e4a829969b2"
      },
      "outputs": [
        {
          "name": "stdout",
          "output_type": "stream",
          "text": [
            "[1.e+05 1.e+10 1.e+15 1.e+20 1.e+25]\n"
          ]
        }
      ],
      "source": [
        "#7)numpy.logspace()\n",
        "#numpy.logspace(start, stop, num_of_elements)\n",
        "#Эта функция используется для создания массива numpy, элементы которого лежат в диапазоне значений от start до stop,\n",
        "#а num_of_elements — это размер массива.\n",
        "#Тип по умолчанию — float64.\n",
        "#Все элементы находятся в пределах логарифмической шкалы, то есть представляют собой логарифмы соответствующих элементов.\n",
        "a = np.logspace(5,25,5)\n",
        "print(a)"
      ]
    },
    {
      "cell_type": "code",
      "execution_count": null,
      "metadata": {
        "id": "dbJdr_YBkn9Q",
        "outputId": "e10d7e8c-58ff-4c9b-e882-45ca1afbe5cf"
      },
      "outputs": [
        {
          "name": "stdout",
          "output_type": "stream",
          "text": [
            "[ 0.0357488 -0.3052578]\n"
          ]
        }
      ],
      "source": [
        "#8)numpy.sin()\n",
        "#numpy.sin(numpy.ndarray)\n",
        "#Этот код вернет синус параметра.\n",
        "a = np.logspace(5,25,2)\n",
        "print(np.sin(a))"
      ]
    },
    {
      "cell_type": "code",
      "execution_count": null,
      "metadata": {
        "id": "-GvM4Bxukn9Q",
        "outputId": "1f12570f-8eef-4dd1-de38-e5233d0a9dd3"
      },
      "outputs": [
        {
          "name": "stdout",
          "output_type": "stream",
          "text": [
            "[[0 1 2]\n",
            " [3 4 5]\n",
            " [6 7 8]]\n"
          ]
        }
      ],
      "source": [
        "#9)numpy.reshape()\n",
        "#numpy.reshape(dimensions)\n",
        "#Эта функция используется для изменения количества измерений массива numpy.\n",
        "#От количества аргументов в reshape зависит, сколько измерений будет в массиве numpy.\n",
        "a = np.arange(9).reshape(3,3)\n",
        "print(a)"
      ]
    },
    {
      "cell_type": "code",
      "execution_count": null,
      "metadata": {
        "id": "QPjn0gOgkn9R",
        "outputId": "2b86c9bb-1a2b-4158-f221-268847952851"
      },
      "outputs": [
        {
          "name": "stdout",
          "output_type": "stream",
          "text": [
            "[[0.48891969 0.99407646]\n",
            " [0.83281596 0.43068855]]\n"
          ]
        }
      ],
      "source": [
        "#10)numpy.random.random()\n",
        "#numpy.random.random((rows, column))\n",
        "#Эта функция возвращает массив с заданным количеством измерений, где каждый элемент генерируется случайным образом.\n",
        "a = np.random.random((2,2))\n",
        "print(a)"
      ]
    },
    {
      "cell_type": "code",
      "execution_count": null,
      "metadata": {
        "id": "_rk9z4Rrkn9R",
        "outputId": "dd352ba6-1573-45a6-ffde-33245024644a"
      },
      "outputs": [
        {
          "name": "stdout",
          "output_type": "stream",
          "text": [
            "[22026.46579481]\n"
          ]
        }
      ],
      "source": [
        "#11)numpy.exp()\n",
        "#numpy.exp(numpy.ndarray)\n",
        "#Функция вернет ndarray с экспоненциальной величиной каждого элемента.\n",
        "b = np.exp([10])\n",
        "print(b)"
      ]
    },
    {
      "cell_type": "code",
      "execution_count": null,
      "metadata": {
        "id": "Wsd933lqkn9R",
        "outputId": "4e70a405-b147-4439-9818-2a9b22b99c15"
      },
      "outputs": [
        {
          "name": "stdout",
          "output_type": "stream",
          "text": [
            "[4.]\n"
          ]
        }
      ],
      "source": [
        "#12)numpy.sqrt()\n",
        "#numpy.sqrt(numpy.ndarray)\n",
        "#Эта функция вернет ndarray с квадратным корнем каждого элемента.\n",
        "b = np.sqrt([16])\n",
        "print(b)"
      ]
    },
    {
      "cell_type": "markdown",
      "metadata": {
        "pycharm": {
          "name": "#%% md\n"
        },
        "id": "V375gWFjkn9R"
      },
      "source": [
        "2 Сгенерировать OLAP-куб, где фиксируем продажи товаров в розничной сети по магазинам.\n",
        "Оси:\n",
        "    0: ID группы товаров\n",
        "    1: ID магазина\n",
        "    2: день месяца, в котором осуществляются продажи (предположим у нас в OLAP-кубе собраны продажи за месяц).\n",
        "\n",
        "Содержимое ячейки: продажи в тыс. рублей данной категории товаров в данном магазине в данный день.\n",
        "\n",
        "Рекомендуется сгенерировать статистически-правдопододные данные в ячейках.\n",
        "К примеру, будет странно, если продажи одной и той же группы товаров в соседние дни будут представлять из себя \"белый шум\". Пусть будет какой-то правдоподобное распределение на ваш вкус.\n",
        "Также продажи одних и тех же групп товаров в разных магазинах не могут отличаться в сотни и тысячи раз, максимум в разы.\n",
        "Подумайте как это обыграть используя различные функции генерации случайных чисел + \"смекалку\"."
      ]
    },
    {
      "cell_type": "code",
      "execution_count": null,
      "metadata": {
        "pycharm": {
          "name": "#%%\n"
        },
        "scrolled": true,
        "id": "OaomXDwkkn9S",
        "outputId": "fcbb59e4-ddbb-4412-b0de-8ea112bb7303"
      },
      "outputs": [
        {
          "name": "stdout",
          "output_type": "stream",
          "text": [
            "[[[61. 54. 71. ... 44. 69. 35.]\n",
            "  [77. 76. 33. ... 46. 13. 25.]\n",
            "  [64. 38. 75. ... 18. 44. 32.]\n",
            "  [54. 71. 41. ... 61. 70. 19.]\n",
            "  [27. 13. 44. ... 57. 21. 52.]]\n",
            "\n",
            " [[54. 43. 31. ... 67. 69. 36.]\n",
            "  [53. 37. 22. ... 71. 18. 60.]\n",
            "  [21. 28. 15. ... 32. 42. 18.]\n",
            "  [19. 59. 28. ... 57. 69. 41.]\n",
            "  [30. 17. 58. ... 62. 32. 43.]]\n",
            "\n",
            " [[14. 39. 30. ... 69. 23. 20.]\n",
            "  [74. 40. 78. ... 55. 53. 75.]\n",
            "  [26. 51. 21. ... 40. 28. 55.]\n",
            "  [47. 47. 52. ... 41. 28. 13.]\n",
            "  [59. 74. 71. ... 28. 39. 66.]]\n",
            "\n",
            " ...\n",
            "\n",
            " [[72. 36. 42. ... 63. 19. 76.]\n",
            "  [34. 61. 24. ... 49. 75. 26.]\n",
            "  [26. 44. 42. ... 18. 38. 37.]\n",
            "  [47. 21. 28. ... 78. 43. 26.]\n",
            "  [36. 45. 31. ... 71. 79. 41.]]\n",
            "\n",
            " [[63. 19. 36. ... 11. 47. 24.]\n",
            "  [49. 41. 52. ... 58. 13. 22.]\n",
            "  [45. 18. 75. ... 21. 10. 31.]\n",
            "  [56. 66. 50. ... 42. 35. 53.]\n",
            "  [77. 79. 53. ... 12. 20. 24.]]\n",
            "\n",
            " [[53. 25. 76. ... 12. 16. 41.]\n",
            "  [66. 60. 31. ... 63. 34. 79.]\n",
            "  [24. 25. 77. ... 61. 35. 15.]\n",
            "  [39. 29. 15. ... 17. 49. 17.]\n",
            "  [41. 40. 63. ... 11. 23. 70.]]]\n"
          ]
        }
      ],
      "source": [
        "import numpy as np\n",
        "import random\n",
        "products = np.arange(0, 22, 1)\n",
        "shops = np.arange(0, 5, 1)\n",
        "days = np.arange(1, 31, 1)\n",
        "cube = np.zeros([products.size, shops.size, days.size])\n",
        "\n",
        "for p in range(products.size):\n",
        "  for s in range(shops.size):\n",
        "    for d in range(days.size):\n",
        "      cube[p, s, d] = np.random.randint(10, 80)\n",
        "\n",
        "print(cube)\n"
      ]
    },
    {
      "cell_type": "markdown",
      "metadata": {
        "pycharm": {
          "name": "#%% md\n"
        },
        "id": "-MRi_mPpkn9S"
      },
      "source": [
        "3 Для получившегося OLAP-куба посчитать суммарные, средние, минимальные и максимальные продажи (на самом деле любые агрегатные функции можно использовать)зафиксировав значения по одной, двум или трём осям:\n",
        "\n",
        "Например взять какой-то определённый набор товаров и набор городов или диапазон дней и сагрегировать данные по всем ячейкам из зафиксированного набора.\n",
        "Пример: получить сумму, среднее, минимум и максимум по продажам 10-20 чисел месяца для товаров [1,3,4] по всем городам (или по конкретному набору городов).\n",
        "\n",
        "Попробуйте различные варианты индексации и различные варианты срезов, насколько хватит фантазии."
      ]
    },
    {
      "cell_type": "code",
      "execution_count": null,
      "metadata": {
        "pycharm": {
          "name": "#%%\n"
        },
        "id": "1--DMge7kn9S",
        "outputId": "2d338712-12fe-4966-ed67-8882466a7693"
      },
      "outputs": [
        {
          "name": "stdout",
          "output_type": "stream",
          "text": [
            "Общая сумма продаж всех товаров во всех магазинах за весь месяц: \n",
            "\n",
            "147684.0\n",
            "\n",
            "-----------------------------------------------------\n",
            "\n",
            "Сумма по продажам 1-5 чисел месяца для товара 9 по всем магазинам: \n",
            "\n",
            "944.0\n",
            "\n",
            "-----------------------------------------------------\n",
            "\n",
            "Минимум по продажам 10-20 чисел месяца для товара 16 в магазине 3: \n",
            "\n",
            "12.0\n",
            "\n",
            "-----------------------------------------------------\n",
            "\n",
            "Минимум по продажам 15-20 чисел месяца для товара 9 в магазине 2: \n",
            "\n",
            "22.0\n",
            "\n",
            "-----------------------------------------------------\n",
            "\n",
            "Стандартное отклонение по продажам 1-10 чисел месяца для товара 1 по всем магазинам: \n",
            "\n",
            "19.236465371788032\n",
            "\n",
            "-----------------------------------------------------\n",
            "\n",
            "Максимум по продажам за все время для товара 12 в магазине 2: \n",
            "\n",
            "79.0\n",
            "\n",
            "-----------------------------------------------------\n",
            "\n",
            "Cреднее по продажам за все время для товара 1 в магазине 1: \n",
            "\n",
            "42.06666666666667\n",
            "\n",
            "-----------------------------------------------------\n",
            "\n"
          ]
        }
      ],
      "source": [
        " print(\"Общая сумма продаж всех товаров во всех магазинах за весь месяц: \\n\")\n",
        "print(np.sum(cube[:,:,:]))\n",
        "print(\"\\n-----------------------------------------------------\\n\")\n",
        "\n",
        "print(\"Сумма по продажам 1-5 чисел месяца для товара 9 по всем магазинам: \\n\")\n",
        "print(np.sum(cube[9,:,[days[0:5]]]))\n",
        "print(\"\\n-----------------------------------------------------\\n\")\n",
        "\n",
        "print(\"Минимум по продажам 10-20 чисел месяца для товара 16 в магазине 3: \\n\")\n",
        "print(np.min(cube[16,3,[days[9:20]]]))\n",
        "print(\"\\n-----------------------------------------------------\\n\")\n",
        "\n",
        "print(\"Минимум по продажам 15-20 чисел месяца для товара 9 в магазине 2: \\n\")\n",
        "print(np.min(cube[9,2,[days[14:20]]]))\n",
        "print(\"\\n-----------------------------------------------------\\n\")\n",
        "\n",
        "print(\"Стандартное отклонение по продажам 1-10 чисел месяца для товара 1 по всем магазинам: \\n\")\n",
        "print(np.std(cube[1,:,[days[0:10]]]))\n",
        "print(\"\\n-----------------------------------------------------\\n\")\n",
        "\n",
        "\n",
        "print(\"Максимум по продажам за все время для товара 12 в магазине 2: \\n\")\n",
        "print(np.max(cube[12,2,:]))\n",
        "print(\"\\n-----------------------------------------------------\\n\")\n",
        "\n",
        "print(\"Cреднее по продажам за все время для товара 1 в магазине 1: \\n\")\n",
        "print(np.mean(cube[1,1,:]))\n",
        "print(\"\\n-----------------------------------------------------\\n\")\n",
        "\n",
        "\n"
      ]
    },
    {
      "cell_type": "code",
      "execution_count": null,
      "metadata": {
        "pycharm": {
          "name": "#%%\n"
        },
        "id": "jpE-iv-qkn9T"
      },
      "outputs": [],
      "source": []
    },
    {
      "cell_type": "markdown",
      "metadata": {
        "pycharm": {
          "name": "#%% md\n"
        },
        "id": "tWOkK-7Dkn9T"
      },
      "source": [
        "![olap-cube](http://www.olap.ru/basic/img/alpero2i2.gif)"
      ]
    },
    {
      "cell_type": "code",
      "execution_count": null,
      "metadata": {
        "pycharm": {
          "name": "#%%\n"
        },
        "id": "wG4UwPIwkn9T"
      },
      "outputs": [],
      "source": []
    }
  ],
  "metadata": {
    "kernelspec": {
      "display_name": "Python 3 (ipykernel)",
      "language": "python",
      "name": "python3"
    },
    "language_info": {
      "codemirror_mode": {
        "name": "ipython",
        "version": 3
      },
      "file_extension": ".py",
      "mimetype": "text/x-python",
      "name": "python",
      "nbconvert_exporter": "python",
      "pygments_lexer": "ipython3",
      "version": "3.9.7"
    },
    "colab": {
      "provenance": []
    }
  },
  "nbformat": 4,
  "nbformat_minor": 0
}